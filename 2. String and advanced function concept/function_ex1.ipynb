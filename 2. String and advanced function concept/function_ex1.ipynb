{
 "cells": [
  {
   "cell_type": "markdown",
   "metadata": {},
   "source": [
    "함수에서 parameter 전달하는 방식\n",
    "\n",
    "1) 값에 의한 호출 (Call by Value)\n",
    "\n",
    "    함수에 인자를 넘길때 값만 넘김\n",
    "    함수 내에 인자값 변경시, 호출자에게 영향 안줌\n",
    "\n",
    "2) 참조에 의한 호출 (Call by Reference)\n",
    "\n",
    "    함수에 인자를 넘길때 메모리주소를 넘김\n",
    "    함수 내에 인자값 변경시, 호출자의 값도 변경됨\n",
    "\n",
    "3) 객체 참조에 의한 호출 (Call by Object Reference)\n",
    "    객체의 주소가 함수로 전달되는 방식\n",
    "    전달된 객체를 참조하여 변경시 호출자에게 영향을 주나,\n",
    "    새로운 객체를 만들 경우 호출자에게 영향을 주지 않음"
   ]
  },
  {
   "cell_type": "code",
   "execution_count": 5,
   "metadata": {},
   "outputs": [
    {
     "name": "stdout",
     "output_type": "stream",
     "text": [
      "[2, 3]\n",
      "[0, 1, 2]\n"
     ]
    }
   ],
   "source": [
    "def spam(eggs):\n",
    "    eggs.append(1) # 기존 객체의 주소값에 [1]추가\n",
    "    eggs.append(2)\n",
    "    eggs = [2,3] # 새로운 객체 생성 \n",
    "    print(eggs)\n",
    "    \n",
    "ham = [0]\n",
    "spam(ham)\n",
    "print(ham) # [0,1]"
   ]
  },
  {
   "cell_type": "code",
   "execution_count": null,
   "metadata": {},
   "outputs": [],
   "source": []
  }
 ],
 "metadata": {
  "kernelspec": {
   "display_name": "Python 3",
   "language": "python",
   "name": "python3"
  },
  "language_info": {
   "codemirror_mode": {
    "name": "ipython",
    "version": 3
   },
   "file_extension": ".py",
   "mimetype": "text/x-python",
   "name": "python",
   "nbconvert_exporter": "python",
   "pygments_lexer": "ipython3",
   "version": "3.10.11"
  },
  "orig_nbformat": 4
 },
 "nbformat": 4,
 "nbformat_minor": 2
}
