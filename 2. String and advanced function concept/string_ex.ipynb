{
 "cells": [
  {
   "cell_type": "code",
   "execution_count": 3,
   "metadata": {},
   "outputs": [
    {
     "name": "stdout",
     "output_type": "stream",
     "text": [
      "a e\n",
      "e a\n"
     ]
    }
   ],
   "source": [
    "a='abcde'\n",
    "print(a[0],a[4])\n",
    "print(a[-1],a[-5])"
   ]
  },
  {
   "cell_type": "code",
   "execution_count": 4,
   "metadata": {},
   "outputs": [
    {
     "name": "stdout",
     "output_type": "stream",
     "text": [
      "Artifi AND Learning\n"
     ]
    }
   ],
   "source": [
    "a = 'Artificial Intelligence and Machine Learning'\n",
    "print(f\"{a[0:6]} AND {a[-8:]}\")"
   ]
  },
  {
   "cell_type": "code",
   "execution_count": 7,
   "metadata": {},
   "outputs": [
    {
     "name": "stdout",
     "output_type": "stream",
     "text": [
      "Artificial Intelligence and Machine Learning\n",
      "Artificial Intelligence and Machine Learning\n"
     ]
    }
   ],
   "source": [
    "# 범위를 넘어가면 자동으로 최대범위를 지정함\n",
    "print(a[-50:50])\n",
    "print(a[-50:])"
   ]
  },
  {
   "cell_type": "code",
   "execution_count": 9,
   "metadata": {},
   "outputs": [
    {
     "name": "stdout",
     "output_type": "stream",
     "text": [
      "Atfca nelgneadMcieLann AND gninraeL enihcaM dna ecnegilletnI laicifitrA\n"
     ]
    }
   ],
   "source": [
    "# 2칸 단위로, 역으로 슬라이싱\n",
    "print(f\"{a[::2]} AND {a[::-1]}\")"
   ]
  },
  {
   "cell_type": "code",
   "execution_count": 23,
   "metadata": {},
   "outputs": [
    {
     "name": "stdout",
     "output_type": "stream",
     "text": [
      "TEAMLAB\n",
      "TEAMBAL\n",
      "BALMAET\n",
      "True\n",
      "True\n",
      "True\n"
     ]
    }
   ],
   "source": [
    "a = 'TEAM'\n",
    "b = 'LAB'\n",
    "print(a+b)\n",
    "print(a+b[::-1])\n",
    "print((a+b)[::-1])\n",
    "\n",
    "print('T' in a+b)\n",
    "print('ML' in a+b)\n",
    "print('LM' in (a+b)[::-1])"
   ]
  },
  {
   "cell_type": "code",
   "execution_count": 56,
   "metadata": {},
   "outputs": [
    {
     "name": "stdout",
     "output_type": "stream",
     "text": [
      "TEAMLAB X UPSTAGE\n",
      "teamlab x upstage\n",
      "['TEAMLAB', 'X', 'Upstage']\n",
      "False\n",
      "Teamlab X Upstage\n",
      "1\n",
      "3\n",
      "0\n",
      "True\n",
      "-1\n",
      "-1\n",
      "2\n",
      "Hello\n",
      "['A', 'B', 'C', 'D', 'E', 'F']\n"
     ]
    }
   ],
   "source": [
    "title = 'TEAMLAB X Upstage'\n",
    "print(title.upper()) # 전체 uppercase\n",
    "print(title.lower()) # 전체 lowercase\n",
    "print(title.split(' ')) # literally split\n",
    "print(title.isdigit()) # 숫자인지\n",
    "print(title.title()) # 첫글자들만 대문자로\n",
    "print(title.count('a')) # 조건속 count 대소문자 구분함\n",
    "print(title.upper().count('A')) # 전체 uppercase 한 후 A 찾기 \n",
    "print(title.upper().count('a')) # 전체 uppercase 한 후 a 찾기, 그래서 0개\n",
    "print('12345'.isdigit())\n",
    "print(title.find('Naver'))\n",
    "print(title.upper().find('Naver'))\n",
    "print(title.upper().find('AML')) # 'AML'이 title속 몇번째에 있느냐\n",
    "print(\"    Hello    \".strip()) # 공백제거\n",
    "print(\"A-B-C-D-E-F\".split('-')) # split"
   ]
  },
  {
   "cell_type": "code",
   "execution_count": 68,
   "metadata": {},
   "outputs": [
    {
     "name": "stdout",
     "output_type": "stream",
     "text": [
      "It's ok.\n",
      "It's ok.\n",
      "He said, \" It's ok. I'm Happy. See you.\" \n"
     ]
    }
   ],
   "source": [
    "print('It\\'s ok.')\n",
    "print(\"It's ok.\")\n",
    "print(\"\"\"He said, \"It's ok. I'm Happy. See you.\" \"\"\")"
   ]
  },
  {
   "cell_type": "code",
   "execution_count": 70,
   "metadata": {},
   "outputs": [
    {
     "name": "stdout",
     "output_type": "stream",
     "text": [
      "배고프다. 이삭 먹으러 갈까 \n",
      " 고민중\n",
      "배고프다. 이삭 먹으러 갈까 \\n 고민중\n"
     ]
    }
   ],
   "source": [
    "raw_string = '배고프다. 이삭 먹으러 갈까 \\n 고민중'\n",
    "print(raw_string)\n",
    "raw_string = r'배고프다. 이삭 먹으러 갈까 \\n 고민중'\n",
    "print(raw_string)"
   ]
  },
  {
   "cell_type": "code",
   "execution_count": 5,
   "metadata": {},
   "outputs": [
    {
     "data": {
      "text/plain": [
       "'yesterday.txt'"
      ]
     },
     "execution_count": 5,
     "metadata": {},
     "output_type": "execute_result"
    }
   ],
   "source": [
    "import wget\n",
    "url = 'https://raw.githubusercontent.com/TeamLab/introduction_to_python_TEAMLAB_MOOC/master/code/6/yesterday.txt'\n",
    "wget.download(url)"
   ]
  },
  {
   "cell_type": "code",
   "execution_count": 5,
   "metadata": {},
   "outputs": [
    {
     "name": "stdout",
     "output_type": "stream",
     "text": [
      "Yesterday, all my troubles seemed so far away\n",
      "Now it looks as though they're here to stay\n",
      "oh, I believe in yesterday\n",
      "\n",
      "Suddenly, I'm not half the man I used to be\n",
      "There's a shadow hanging over me\n",
      "Oh, yesterday came suddenly.\n",
      "\n",
      "Why she had to go?\n",
      "I don't know, she wouldn't say\n",
      "I said something wrong\n",
      "Now I long for yesterday.\n",
      "\n",
      "Yesterday love was such an easy game to play\n",
      "Now I need a place to hide away\n",
      "Oh, I believe in yesterday.\n",
      "\n",
      "Why she had to go?\n",
      "I don't know, she wouldn't say\n",
      "I said something wrong\n",
      "Now I long for yesterday.\n",
      "\n",
      "Yesterday love was such an easy game to play\n",
      "Now I need a place to hide away\n",
      "Oh, I believe in yesterday...\n",
      "\n"
     ]
    }
   ],
   "source": [
    "f = open(\"yesterday.txt\",\"r\") # r for read\n",
    "yesterday_lyric = \"\"\n",
    "while True:\n",
    "    line = f.readline()\n",
    "    if not line:\n",
    "        break\n",
    "    yesterday_lyric = yesterday_lyric + line.strip() + \"\\n\"\n",
    "f.close()\n",
    "# print(f) # 해당 파일에 대한 정보만\n",
    "print(yesterday_lyric)\n",
    "# n_of_yesterday = yesterday_lyric.upper().count(\"YESTERDAY\") # 대소문자구분 제거\n",
    "# print(\"Number of a Word 'Yesterday'\", n_of_yesterday)\n"
   ]
  },
  {
   "cell_type": "code",
   "execution_count": 8,
   "metadata": {},
   "outputs": [
    {
     "name": "stdout",
     "output_type": "stream",
     "text": [
      "Yesterday, all my troubles seemed so far away\n",
      "Now it looks as though they're here to stay\n",
      "oh, I believe in yesterday\n",
      "\n",
      "Suddenly, I'm not half the man I used to be\n",
      "There's a shadow hanging over me\n",
      "Oh, yesterday came suddenly.\n",
      "\n",
      "Why she had to go?\n",
      "I don't know, she wouldn't say\n",
      "I said something wrong\n",
      "Now I long for yesterday.\n",
      "\n",
      "Yesterday love was such an easy game to play\n",
      "Now I need a place to hide away\n",
      "Oh, I believe in yesterday.\n",
      "\n",
      "Why she had to go?\n",
      "I don't know, she wouldn't say\n",
      "I said something wrong\n",
      "Now I long for yesterday.\n",
      "\n",
      "Yesterday love was such an easy game to play\n",
      "Now I need a place to hide away\n",
      "Oh, I believe in yesterday...\n",
      "\n",
      "3\n",
      "6\n"
     ]
    }
   ],
   "source": [
    "f1 = open(\"yesterday.txt\", \"r\")\n",
    "yesterday_lyrics = \"\"\n",
    "while True:\n",
    "    line = f1.readline()\n",
    "    if not line:\n",
    "        break\n",
    "    yesterday_lyrics = yesterday_lyrics + line.strip() + \"\\n\"\n",
    "f.close()\n",
    "print(yesterday_lyrics)\n",
    "n_of_Yesterday = yesterday_lyrics.count(\"Yesterday\")\n",
    "n_of_yesterday = yesterday_lyrics.count(\"yesterday\")\n",
    "print(n_of_Yesterday)\n",
    "print(n_of_yesterday)"
   ]
  },
  {
   "cell_type": "code",
   "execution_count": null,
   "metadata": {},
   "outputs": [],
   "source": []
  }
 ],
 "metadata": {
  "kernelspec": {
   "display_name": "Python 3",
   "language": "python",
   "name": "python3"
  },
  "language_info": {
   "codemirror_mode": {
    "name": "ipython",
    "version": 3
   },
   "file_extension": ".py",
   "mimetype": "text/x-python",
   "name": "python",
   "nbconvert_exporter": "python",
   "pygments_lexer": "ipython3",
   "version": "3.11.0"
  },
  "orig_nbformat": 4
 },
 "nbformat": 4,
 "nbformat_minor": 2
}
