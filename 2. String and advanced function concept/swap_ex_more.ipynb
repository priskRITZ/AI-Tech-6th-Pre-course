{
 "cells": [
  {
   "cell_type": "code",
   "execution_count": 1,
   "metadata": {},
   "outputs": [],
   "source": [
    "def swap_value (x, y):\n",
    "    temp = x\n",
    "    x = y\n",
    "    y = temp\n",
    "\n",
    "def swap_offset (offset_x, offset_y):\n",
    "    temp = ex[offset_x]\n",
    "    ex[offset_x] = ex[offset_y]\n",
    "    ex[offset_y] = temp\n",
    "\n",
    "def swap_reference (list, offset_x, offset_y):\n",
    "    temp = list[offset_x]\n",
    "    list[offset_x] = list[offset_y]\n",
    "    list[offset_y] = temp"
   ]
  },
  {
   "cell_type": "code",
   "execution_count": 2,
   "metadata": {},
   "outputs": [
    {
     "name": "stdout",
     "output_type": "stream",
     "text": [
      "[1, 2, 3, 4, 5]\n"
     ]
    }
   ],
   "source": [
    "ex = [1,2,3,4,5]\n",
    "swap_value(ex[1], ex[2])\n",
    "print(ex)"
   ]
  },
  {
   "cell_type": "code",
   "execution_count": 3,
   "metadata": {},
   "outputs": [],
   "source": [
    "def swap_offset (offset_x, offset_y):\n",
    "    temp = ex[offset_x]\n",
    "    ex[offset_x] = ex[offset_y]\n",
    "    ex[offset_y] = temp"
   ]
  },
  {
   "cell_type": "code",
   "execution_count": 4,
   "metadata": {},
   "outputs": [
    {
     "data": {
      "text/plain": [
       "[2, 1, 3, 4, 5]"
      ]
     },
     "execution_count": 4,
     "metadata": {},
     "output_type": "execute_result"
    }
   ],
   "source": [
    "swap_offset(0, 1)\n",
    "ex"
   ]
  },
  {
   "cell_type": "code",
   "execution_count": 5,
   "metadata": {},
   "outputs": [
    {
     "data": {
      "text/plain": [
       "[1, 2, 3, 5, 4]"
      ]
     },
     "execution_count": 5,
     "metadata": {},
     "output_type": "execute_result"
    }
   ],
   "source": [
    "ex = [1,2,3,4,5]\n",
    "swap_reference(ex, 3, 4)\n",
    "ex"
   ]
  },
  {
   "cell_type": "markdown",
   "metadata": {},
   "source": [
    "제일 좋은건 function 내에서 항상 새로 들어온값을 복사해주는게 좋다고함\n",
    "되도록 들어온 list값을 직접 안만지는게 좋다고함"
   ]
  },
  {
   "cell_type": "code",
   "execution_count": null,
   "metadata": {},
   "outputs": [],
   "source": [
    "def swap_reference (list_ex, offset_x, offset_y):\n",
    "    temp_list = list_ex[:] #이런식으로 복사해주는게 좋다고함\n",
    "    temp = list_ex[offset_x]\n",
    "    list_ex[offset_x] = list_ex[offset_y]\n",
    "    list_ex[offset_y] = temp"
   ]
  },
  {
   "cell_type": "code",
   "execution_count": 6,
   "metadata": {},
   "outputs": [
    {
     "name": "stdout",
     "output_type": "stream",
     "text": [
      "10\n",
      "In function : 20\n"
     ]
    },
    {
     "ename": "NameError",
     "evalue": "name 't' is not defined",
     "output_type": "error",
     "traceback": [
      "\u001b[1;31m---------------------------------------------------------------------------\u001b[0m",
      "\u001b[1;31mNameError\u001b[0m                                 Traceback (most recent call last)",
      "Cell \u001b[1;32mIn[6], line 10\u001b[0m\n\u001b[0;32m      8\u001b[0m x \u001b[39m=\u001b[39m \u001b[39m10\u001b[39m\n\u001b[0;32m      9\u001b[0m test(x)\n\u001b[1;32m---> 10\u001b[0m \u001b[39mprint\u001b[39m(t)\n",
      "\u001b[1;31mNameError\u001b[0m: name 't' is not defined"
     ]
    }
   ],
   "source": [
    "# 변수의 범위 Scoping Rule\n",
    "\n",
    "def test(t):\n",
    "    print(x)\n",
    "    t = 20\n",
    "    print('In function :' , t)\n",
    "\n",
    "x = 10\n",
    "test(x)\n",
    "print(t)"
   ]
  },
  {
   "cell_type": "code",
   "execution_count": 13,
   "metadata": {},
   "outputs": [
    {
     "name": "stdout",
     "output_type": "stream",
     "text": [
      "Before : 10\n",
      "In function : 20\n",
      "After : 10\n"
     ]
    }
   ],
   "source": [
    "def test(t):\n",
    "    t = 20\n",
    "    print('In function :', t)\n",
    "\n",
    "x = 10\n",
    "print('Before :', x) # 10\n",
    "test(x)              # 함수호출\n",
    "print('After :', x)  # 10 - 함수 내부의 t는 새로운 주소값을 가짐"
   ]
  },
  {
   "cell_type": "code",
   "execution_count": 14,
   "metadata": {},
   "outputs": [
    {
     "name": "stdout",
     "output_type": "stream",
     "text": [
      "I love London!\n",
      "I love Paris!\n"
     ]
    }
   ],
   "source": [
    "def f():\n",
    "    s = 'I love London!'\n",
    "    print(s)\n",
    "\n",
    "s = 'I love Paris!'\n",
    "f()\n",
    "print(s)"
   ]
  },
  {
   "cell_type": "code",
   "execution_count": 15,
   "metadata": {},
   "outputs": [
    {
     "name": "stdout",
     "output_type": "stream",
     "text": [
      "I love London!\n",
      "I love London!\n"
     ]
    }
   ],
   "source": [
    "def f():\n",
    "    global s \n",
    "    s = 'I love London!'\n",
    "    print(s)\n",
    "\n",
    "s = 'I love Paris!'\n",
    "f()\n",
    "print(s)"
   ]
  },
  {
   "cell_type": "code",
   "execution_count": 18,
   "metadata": {},
   "outputs": [
    {
     "name": "stdout",
     "output_type": "stream",
     "text": [
      "In program - 1\n",
      "a: 5 b: 7 a+b: 12\n",
      "In function\n",
      "a: 5 b: 7 a+b: 12 total: 12\n",
      "After Calculation\n",
      "Total: 0 Sum: 12\n"
     ]
    }
   ],
   "source": [
    "def calculate(x, y):\n",
    "    total = x + y\n",
    "    print('In function')\n",
    "    print('a:', str(a), 'b:', str(b), 'a+b:', str(a+b), 'total:', str(total))\n",
    "    return total\n",
    "\n",
    "a = 5 \n",
    "b = 7\n",
    "total = 0\n",
    "print('In program - 1')\n",
    "print('a:', str(a), 'b:', str(b), 'a+b:', str(a+b))\n",
    "\n",
    "sum = calculate(a, b)\n",
    "print('After Calculation')\n",
    "print('Total:', str(total), 'Sum:', str(sum))\n",
    "\n",
    "# In program -1\n",
    "# a:5 b:7 a+b:12\n",
    "# In function\n",
    "# a:5 b:7 a+b:12 total:12\n",
    "# After Calculation\n",
    "# Total:12 Sum:12"
   ]
  },
  {
   "cell_type": "code",
   "execution_count": 21,
   "metadata": {},
   "outputs": [
    {
     "name": "stdout",
     "output_type": "stream",
     "text": [
      "24\n"
     ]
    }
   ],
   "source": [
    "# 재귀함수 recursive Function\n",
    "\n",
    "def factorial(n):\n",
    "    if n == 1:\n",
    "        return 1\n",
    "    else:\n",
    "        return n * factorial(n-1)\n",
    "    \n",
    "print(factorial(int(input(\"Input Number for Factorial Calculation:\"))))"
   ]
  },
  {
   "cell_type": "code",
   "execution_count": 23,
   "metadata": {},
   "outputs": [
    {
     "ename": "NameError",
     "evalue": "name 'var_type' is not defined",
     "output_type": "error",
     "traceback": [
      "\u001b[1;31m---------------------------------------------------------------------------\u001b[0m",
      "\u001b[1;31mNameError\u001b[0m                                 Traceback (most recent call last)",
      "Cell \u001b[1;32mIn[23], line 3\u001b[0m\n\u001b[0;32m      1\u001b[0m \u001b[39m# function type hints\u001b[39;00m\n\u001b[0;32m      2\u001b[0m \u001b[39m# 인터페이스 명확\u001b[39;00m\n\u001b[1;32m----> 3\u001b[0m \u001b[39mdef\u001b[39;00m \u001b[39mdo_function\u001b[39m(var_name: var_type) \u001b[39m-\u001b[39m\u001b[39m>\u001b[39m return_type:\n\u001b[0;32m      4\u001b[0m     \u001b[39mpass\u001b[39;00m\n\u001b[0;32m      6\u001b[0m \u001b[39mdef\u001b[39;00m \u001b[39mtype_hint_example\u001b[39m(name: \u001b[39mstr\u001b[39m) \u001b[39m-\u001b[39m\u001b[39m>\u001b[39m \u001b[39mstr\u001b[39m:\n",
      "\u001b[1;31mNameError\u001b[0m: name 'var_type' is not defined"
     ]
    }
   ],
   "source": [
    "# function type hints\n",
    "# 인터페이스 명확\n",
    "# 함수 문서화시 파라미터에 대한 정보 잘앎\n",
    "\n",
    "def do_function(var_name: var_type) -> return_type:\n",
    "    pass\n",
    "\n",
    "def type_hint_example(name: str) -> str:\n",
    "    return f\"Hello, {name}\"\n"
   ]
  },
  {
   "cell_type": "code",
   "execution_count": 24,
   "metadata": {},
   "outputs": [
    {
     "name": "stdout",
     "output_type": "stream",
     "text": [
      "200\n"
     ]
    }
   ],
   "source": [
    "# function docstring\n",
    "# 파이썬 함수에 대한 상세스펙을 사전에 작성, 함수 사용자의 이행도 UP\n",
    "# 세개의 따옴표로 docstring 영역표시\n",
    "\n",
    "def calculate_rectangle_area(x: int, y: int) -> int:\n",
    "    \"\"\" Calculate the rectangle area by given data length and height (x,y)\n",
    "\n",
    "    Args:\n",
    "        x (int): length of rectangle\n",
    "        y (int): width of rectangle\n",
    "\n",
    "    Returns:\n",
    "        int: Return the value of rectangle area by cacluating length * width\n",
    "    \"\"\"    \n",
    "    return x*y\n",
    "\n",
    "rectangle_x = 10\n",
    "rectangle_y = 20\n",
    "print(calculate_rectangle_area(\n",
    "    rectangle_x, rectangle_y))"
   ]
  },
  {
   "cell_type": "code",
   "execution_count": 25,
   "metadata": {},
   "outputs": [],
   "source": [
    "# 함수 작성 가이드라인\n",
    "# 가능한 짧게 작성(줄 수를 줄여라)\n",
    "# 함수 이름에 함수의 역할, 의도가 명확히 들어낼것\n",
    "\n",
    "def print_hello_world():\n",
    "    print(\"Hello, World\")\n",
    "\n",
    "def get_hello_world():\n",
    "    return \"Hello, World\""
   ]
  },
  {
   "cell_type": "code",
   "execution_count": null,
   "metadata": {},
   "outputs": [],
   "source": [
    "# 하나의 함수에는 유사한 역할을 하는 코드만 포함\n",
    "\n",
    "def add_variables(x,y):\n",
    "    print(x, y) # 함수 이름이 add_var 인데 print를 왜포함함? 이런식\n",
    "    return x + y"
   ]
  },
  {
   "cell_type": "code",
   "execution_count": null,
   "metadata": {},
   "outputs": [],
   "source": [
    "# 인자로 받은값 자체를 바꾸지마"
   ]
  },
  {
   "cell_type": "code",
   "execution_count": null,
   "metadata": {},
   "outputs": [],
   "source": [
    "# 함수는 언제만듦?\n",
    "\n",
    "# 공통 코드는 함수로\n",
    "# 복잡한 수식 -> 식별 가능 이름의 함수로 변환\n",
    "# 복잡한 조건 -> 식별 가능 이름의 함수로 변환"
   ]
  },
  {
   "cell_type": "code",
   "execution_count": 26,
   "metadata": {},
   "outputs": [
    {
     "name": "stdout",
     "output_type": "stream",
     "text": [
      "True\n"
     ]
    }
   ],
   "source": [
    "# 코딩은 팀플\n",
    "코딩 = 1\n",
    "팀플 = 1\n",
    "print(코딩 == 팀플)\n",
    "\n",
    "# 코드는 항상 보고서다"
   ]
  },
  {
   "cell_type": "code",
   "execution_count": 27,
   "metadata": {},
   "outputs": [
    {
     "ename": "NameError",
     "evalue": "name 'flake8' is not defined",
     "output_type": "error",
     "traceback": [
      "\u001b[1;31m---------------------------------------------------------------------------\u001b[0m",
      "\u001b[1;31mNameError\u001b[0m                                 Traceback (most recent call last)",
      "Cell \u001b[1;32mIn[27], line 20\u001b[0m\n\u001b[0;32m      1\u001b[0m \u001b[39m# 파이썬 코딩 컨벤션\u001b[39;00m\n\u001b[0;32m      2\u001b[0m \n\u001b[0;32m      3\u001b[0m \u001b[39m# Google Python Convention 참고해봐\u001b[39;00m\n\u001b[1;32m   (...)\u001b[0m\n\u001b[0;32m     17\u001b[0m \n\u001b[0;32m     18\u001b[0m \u001b[39m# flake8 모듈로 체크\u001b[39;00m\n\u001b[1;32m---> 20\u001b[0m flake8\n",
      "\u001b[1;31mNameError\u001b[0m: name 'flake8' is not defined"
     ]
    }
   ],
   "source": [
    "# 파이썬 코딩 컨벤션\n",
    "\n",
    "# Google Python Convention 참고해봐\n",
    "\n",
    "# 중요한건 일관성!!!\n",
    "\n",
    "# 들여쓰기는 요즘 4 space \n",
    "# 혼합해서 쓰지만 마라\n",
    "\n",
    "# 들여쓰기 공백 4칸 권장\n",
    "# 한 줄은 최대 79자까지\n",
    "# 불필요한 공백 피함\n",
    "\n",
    "# = 연산자는 1칸이상 안띠움\n",
    "# 주석은 항상 갱신, 불필요한 주석삭제\n",
    "# 코드의 마지막에는 항상 한줄 추가\n",
    "\n",
    "# flake8 모듈로 체크\n",
    "# 최근에는 black 모듈 써서 검증함\n",
    "\n",
    "\n"
   ]
  },
  {
   "cell_type": "code",
   "execution_count": null,
   "metadata": {},
   "outputs": [],
   "source": []
  }
 ],
 "metadata": {
  "kernelspec": {
   "display_name": "Python 3",
   "language": "python",
   "name": "python3"
  },
  "language_info": {
   "codemirror_mode": {
    "name": "ipython",
    "version": 3
   },
   "file_extension": ".py",
   "mimetype": "text/x-python",
   "name": "python",
   "nbconvert_exporter": "python",
   "pygments_lexer": "ipython3",
   "version": "3.11.0"
  },
  "orig_nbformat": 4
 },
 "nbformat": 4,
 "nbformat_minor": 2
}
